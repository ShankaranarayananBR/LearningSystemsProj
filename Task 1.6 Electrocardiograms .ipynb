{
 "cells": [
  {
   "cell_type": "code",
   "execution_count": 85,
   "metadata": {},
   "outputs": [
    {
     "name": "stdout",
     "output_type": "stream",
     "text": [
      "(200, 312)\n",
      "(200, 1)\n",
      "[[ 0.         0.         0.         1.2637258  9.2601681]\n",
      " [14.910554   0.         0.         0.         0.       ]\n",
      " [ 1.0045998 13.89223    9.5149614  5.         4.2430653]\n",
      " [ 0.         8.1978235  0.         0.         0.       ]\n",
      " [ 0.         2.9922511  6.0993438  7.        16.430363 ]]\n",
      "[1 0 0 0 0]\n"
     ]
    }
   ],
   "source": [
    "from scipy.io import loadmat\n",
    "from sklearn.feature_selection import SelectKBest\n",
    "from sklearn.feature_selection import chi2\n",
    "from sklearn.decomposition import PCA\n",
    "import numpy as np\n",
    "import matplotlib.pylab as plt\n",
    "from sklearn import preprocessing\n",
    "from sklearn.preprocessing import StandardScaler\n",
    "\n",
    "#Loading datasets\n",
    "mat = loadmat(\"ECGITtrain.mat\")\n",
    "inputECGITtrain = mat[\"inputECGITtrain\"]\n",
    "outputECGITtrain= mat[\"outputECGITtrain\"]\n",
    "print(inputECGITtrain.shape)\n",
    "print(outputECGITtrain.shape)\n",
    "outputECGITtrain=outputECGITtrain.reshape(len(inputECGITtrain))\n",
    "print(inputECGITtrain[:5,:5])\n",
    "print(outputECGITtrain[:5])\n",
    "outputECGITtrain=outputECGITtrain.reshape(len(inputECGITtrain))"
   ]
  },
  {
   "cell_type": "code",
   "execution_count": 86,
   "metadata": {},
   "outputs": [
    {
     "name": "stdout",
     "output_type": "stream",
     "text": [
      "(200, 84)\n",
      "[[28.112628 17.818724]\n",
      " [ 0.       15.327236]]\n"
     ]
    }
   ],
   "source": [
    "C1 = inputECGITtrain[:,19:26] \n",
    "#print(\"Channel 1\",C1)\n",
    "C2 = inputECGITtrain[:,45:52]\n",
    "#print(\"Channel 2\",C2)\n",
    "C3 = inputECGITtrain[:,71:78]\n",
    "#print(\"Channel 3\",C2)\n",
    "C4 = inputECGITtrain[:,97:104]\n",
    "#print(\"Channel 4\",C2)\n",
    "C5 = inputECGITtrain[:,123:130]\n",
    "#print(\"Channel 5\",C2)\n",
    "C6 = inputECGITtrain[:,149:156]\n",
    "#print(\"Channel 6\",C2)\n",
    "C7 = inputECGITtrain[:,175:182]\n",
    "#print(\"Channel 7\",C2)\n",
    "C8 = inputECGITtrain[:,201:208]\n",
    "#print(\"Channel 8\",C2)\n",
    "C9 = inputECGITtrain[:,227:234]\n",
    "#print(\"Channel 9\",C2)\n",
    "C10 = inputECGITtrain[:,253:260]\n",
    "#print(\"Channel 10\",C2)\n",
    "C11 = inputECGITtrain[:,279:286]\n",
    "#print(\"Channel 11\",C2)\n",
    "C12 = inputECGITtrain[:,305:312]\n",
    "#print(\"Channel 12\",C2)\n",
    "\n",
    "\n",
    "d1 = np.append(C1, C2, axis=1)\n",
    "d1 = np.append(d1, C3, axis=1)\n",
    "d1 = np.append(d1, C4, axis=1)\n",
    "d1 = np.append(d1, C5, axis=1)\n",
    "d1 = np.append(d1, C6, axis=1)\n",
    "d1 = np.append(d1, C7, axis=1)\n",
    "d1 = np.append(d1, C8, axis=1)\n",
    "d1 = np.append(d1, C9, axis=1)\n",
    "d1 = np.append(d1, C10, axis=1)\n",
    "d1 = np.append(d1, C11, axis=1)\n",
    "Xtrain_ftr_extrct = np.append(d1, C12, axis=1)\n",
    "print(Xtrain_ftr_extrct.shape)\n",
    "print(Xtrain_ftr_extrct[:2,:2])\n"
   ]
  },
  {
   "cell_type": "code",
   "execution_count": 87,
   "metadata": {},
   "outputs": [
    {
     "name": "stdout",
     "output_type": "stream",
     "text": [
      "(200, 84)\n",
      "[[ 1.36779444  0.56835858 -0.58605598 -0.62999496 -0.63417844]\n",
      " [-0.98347552  0.38353729  0.57107342  3.01116756  2.51055967]\n",
      " [ 0.55362493 -0.75345378 -0.58605598 -0.62999496 -0.63417844]\n",
      " [-0.98347552  0.20257712  0.36283601  1.11921917  1.25660321]\n",
      " [ 0.48690019  1.00887809  0.92016061  2.20314582 -0.63417844]]\n"
     ]
    }
   ],
   "source": [
    "scaler = StandardScaler()\n",
    "scaler.fit(Xtrain_ftr_extrct)\n",
    "scaled_inputECG=scaler.transform(Xtrain_ftr_extrct)\n",
    "print(scaled_inputECG.shape)\n",
    "print(scaled_inputECG[:5,:5])"
   ]
  },
  {
   "cell_type": "code",
   "execution_count": 88,
   "metadata": {},
   "outputs": [
    {
     "name": "stdout",
     "output_type": "stream",
     "text": [
      "[[ 6.23305705 -1.1986911 ]\n",
      " [-2.13324932 -0.22635854]\n",
      " [ 3.69168439 -0.16063487]\n",
      " [-6.20338779 -4.31648172]\n",
      " [ 0.5006318   0.40421842]]\n",
      "[1 0]\n"
     ]
    }
   ],
   "source": [
    "pca = PCA(n_components=2)\n",
    "inputECG_pca=pca.fit_transform(scaled_inputECG)\n",
    "\n",
    "outputECGITtrain=outputECGITtrain.reshape(len(inputECG_pca))\n",
    "#Showing subset \n",
    "print(inputECG_pca[:5])\n",
    "print(outputECGITtrain[:2])"
   ]
  },
  {
   "cell_type": "code",
   "execution_count": 89,
   "metadata": {},
   "outputs": [
    {
     "name": "stderr",
     "output_type": "stream",
     "text": [
      "C:\\ProgramData\\Anaconda3\\lib\\site-packages\\ipykernel_launcher.py:7: UserWarning: Matplotlib is currently using module://ipykernel.pylab.backend_inline, which is a non-GUI backend, so cannot show the figure.\n",
      "  import sys\n"
     ]
    },
    {
     "data": {
      "image/png": "[encoded data removed]",
      "text/plain": [
       "<Figure size 432x288 with 1 Axes>"
      ]
     },
     "metadata": {
      "needs_background": "light"
     },
     "output_type": "display_data"
    }
   ],
   "source": [
    "fig,ax=plt.subplots()\n",
    "X0 =inputECG_pca [outputECGITtrain==0]\n",
    "X1 = inputECG_pca[outputECGITtrain==1]\n",
    "ax.scatter(X0[:,0], X0[:,1], color=\"red\", marker=\"$0$\", label=\"begin=0)\")\n",
    "ax.scatter(X1[:,0], X1[:,1], color=\"blue\", marker=\"$1$\", label=\"malignant=1)\")\n",
    "ax.legend()\n",
    "fig.show() "
   ]
  },
  {
   "cell_type": "code",
   "execution_count": 90,
   "metadata": {},
   "outputs": [
    {
     "name": "stdout",
     "output_type": "stream",
     "text": [
      "KNN Accuracy: 73.50 (+/- 0.16)\n"
     ]
    }
   ],
   "source": [
    "from sklearn.model_selection import train_test_split\n",
    "from sklearn.preprocessing import StandardScaler\n",
    "from sklearn.neighbors import KNeighborsClassifier\n",
    "\n",
    "classifier = KNeighborsClassifier(3)\n",
    "classifier.fit(scaled_inputECG,outputECGITtrain)\n",
    "from sklearn.model_selection import cross_val_score\n",
    "scores = cross_val_score(classifier,scaled_inputECG,outputECGITtrain, cv=10)\n",
    "print(\"KNN Accuracy: %0.2f (+/- %0.2f)\" % (scores.mean() * 100, scores.std() * 2))\n",
    "\n",
    "\n",
    "pca = PCA(n_components=20)\n",
    "inputECG_pca=pca.fit_transform(scaled_inputECG)\n",
    "\n",
    "outputECGITtrain=outputECGITtrain.reshape(len(inputECG_pca))\n",
    "TrainX, TestX, TrainY,TestY = train_test_split(inputECG_pca,outputECGITtrain , test_size=0.20)\n",
    "\n"
   ]
  },
  {
   "cell_type": "code",
   "execution_count": 91,
   "metadata": {},
   "outputs": [
    {
     "name": "stdout",
     "output_type": "stream",
     "text": [
      "accuracy when n = 1\n",
      "Accuary: 0.775\n",
      "accuracy when n = 3\n",
      "Accuary: 0.75\n",
      "accuracy when n = 5\n",
      "Accuary: 0.825\n",
      "accuracy when n = 7\n",
      "Accuary: 0.775\n",
      "accuracy when n = 9\n",
      "Accuary: 0.725\n",
      "accuracy when n = 11\n",
      "Accuary: 0.725\n",
      "accuracy when n = 13\n",
      "Accuary: 0.7\n",
      "accuracy when n = 15\n",
      "Accuary: 0.7\n",
      "accuracy when n = 17\n",
      "Accuary: 0.75\n",
      "accuracy when n = 19\n",
      "Accuary: 0.75\n",
      "0.825 5\n"
     ]
    }
   ],
   "source": [
    "def knnfun(n_neighbors) :\n",
    "    classifier = KNeighborsClassifier(n_neighbors)\n",
    "    classifier.fit(TrainX,TrainY)\n",
    "    #Prediction \n",
    "    y_pred = classifier.predict(TestX)\n",
    "    y_pred_train=classifier.predict(TrainX)\n",
    "    #print(y_pred)\n",
    "    #print(len(y_pred))\n",
    "    from sklearn.metrics import classification_report, confusion_matrix\n",
    "    #print(confusion_matrix(TestY, y_pred))\n",
    "    #print(classification_report(TestY, y_pred))\n",
    "    from sklearn.metrics import accuracy_score\n",
    "    acc = accuracy_score(TestY,y_pred)\n",
    "    print(\"Accuary:\",acc)\n",
    "    return acc,n_neighbors\n",
    "acc_list=[]\n",
    "n_list=[1,3,5,7,9,11,13,15,17,19]\n",
    "for n in n_list:\n",
    "    print(\"accuracy when n =\",n)\n",
    "    acc_list.append(knnfun(n)) \n",
    "acc_list.sort()\n",
    "maxi_acc=acc_list[-1]\n",
    "print(maxi_acc[0],maxi_acc[1])"
   ]
  },
  {
   "cell_type": "code",
   "execution_count": null,
   "metadata": {},
   "outputs": [],
   "source": []
  },
  {
   "cell_type": "code",
   "execution_count": 92,
   "metadata": {},
   "outputs": [
    {
     "name": "stdout",
     "output_type": "stream",
     "text": [
      "(40, 20)\n",
      "[1 0 0 1 0 0 0 1 0 0 1 0 1 0 0 0 0 0 1 1 1 0 0 0 0 1 0 1 0 0 0 0 0 0 0 1 0\n",
      " 0 0 0]\n",
      "40\n"
     ]
    }
   ],
   "source": [
    "#Train model according to best parameter\n",
    "n=maxi_acc[1]\n",
    "classifier = KNeighborsClassifier(n)\n",
    "classifier.fit(TrainX,TrainY)\n",
    "print(TestX.shape)\n",
    "\n",
    "y_pred = classifier.predict(TestX)\n",
    "#y_pred_train=classifier.predict(TrainX)\n",
    "print(y_pred)\n",
    "print(len(y_pred))"
   ]
  },
  {
   "cell_type": "code",
   "execution_count": 93,
   "metadata": {},
   "outputs": [
    {
     "name": "stdout",
     "output_type": "stream",
     "text": [
      "[[23  1]\n",
      " [ 6 10]]\n",
      "              precision    recall  f1-score   support\n",
      "\n",
      "           0       0.79      0.96      0.87        24\n",
      "           1       0.91      0.62      0.74        16\n",
      "\n",
      "    accuracy                           0.82        40\n",
      "   macro avg       0.85      0.79      0.80        40\n",
      "weighted avg       0.84      0.82      0.82        40\n",
      "\n",
      "0.825\n"
     ]
    }
   ],
   "source": [
    "from sklearn.metrics import classification_report, confusion_matrix\n",
    "print(confusion_matrix(TestY, y_pred))\n",
    "print(classification_report(TestY, y_pred))\n",
    "from sklearn.metrics import accuracy_score\n",
    "acc = accuracy_score(TestY,y_pred)\n",
    "print(acc) "
   ]
  },
  {
   "cell_type": "code",
   "execution_count": 94,
   "metadata": {},
   "outputs": [
    {
     "name": "stdout",
     "output_type": "stream",
     "text": [
      "(100, 84)\n",
      "[[-1.88839527e+00 -1.32610379e+00 -1.05112612e+00 -1.37143423e+00\n",
      "   4.74590012e-03 -9.91996030e-01 -4.94001788e-01 -6.50201335e-01\n",
      "  -4.05542869e-01  2.28859332e-01 -1.39149903e+00 -4.12649423e-01\n",
      "  -1.23778252e+00  3.42718042e-01 -4.85961534e-01  3.96253794e-01\n",
      "   4.95837080e-01  2.46102052e-01 -2.23766267e-01  3.93880101e-01]\n",
      " [-1.22211157e-01 -1.92546345e+00 -1.04579362e+00  4.85705780e+00\n",
      "   1.36301280e-01  1.95683009e+00 -8.86793860e-01 -2.25535423e-02\n",
      "   1.86799850e+00 -2.76511552e-01 -1.02740677e+00  1.66419692e+00\n",
      "   5.62305227e-01  4.97402928e-01 -1.55052354e+00 -1.14942313e+00\n",
      "   1.07021571e+00 -2.33488446e+00  3.86907968e-01 -6.67524181e-01]]\n",
      "(100, 20)\n"
     ]
    }
   ],
   "source": [
    "#Working on Test Data\n",
    "inputECGITtest = mat[\"inputECGITtest\"]\n",
    "#cancerTestX = cancerTestX.transpose()\n",
    "#Data preprocessing i.e \n",
    "\n",
    "\n",
    "C1 = inputECGITtest[:,19:26] \n",
    "#print(\"Channel 1\",C1)\n",
    "C2 = inputECGITtest[:,45:52]\n",
    "#print(\"Channel 2\",C2)\n",
    "C3 = inputECGITtest[:,71:78]\n",
    "#print(\"Channel 3\",C2)\n",
    "C4 = inputECGITtest[:,97:104]\n",
    "#print(\"Channel 4\",C2)\n",
    "C5 = inputECGITtest[:,123:130]\n",
    "#print(\"Channel 5\",C2)\n",
    "C6 = inputECGITtest[:,149:156]\n",
    "#print(\"Channel 6\",C2)\n",
    "C7 = inputECGITtest[:,175:182]\n",
    "#print(\"Channel 7\",C2)\n",
    "C8 = inputECGITtest[:,201:208]\n",
    "#print(\"Channel 8\",C2)\n",
    "C9 = inputECGITtest[:,227:234]\n",
    "#print(\"Channel 9\",C2)\n",
    "C10 = inputECGITtest[:,253:260]\n",
    "#print(\"Channel 10\",C2)\n",
    "C11 = inputECGITtest[:,279:286]\n",
    "#print(\"Channel 11\",C2)\n",
    "C12 = inputECGITtest[:,305:312]\n",
    "#print(\"Channel 12\",C2)\n",
    "\n",
    "\n",
    "d1 = np.append(C1, C2, axis=1)\n",
    "d1 = np.append(d1, C3, axis=1)\n",
    "d1 = np.append(d1, C4, axis=1)\n",
    "d1 = np.append(d1, C5, axis=1)\n",
    "d1 = np.append(d1, C6, axis=1)\n",
    "d1 = np.append(d1, C7, axis=1)\n",
    "d1 = np.append(d1, C8, axis=1)\n",
    "d1 = np.append(d1, C9, axis=1)\n",
    "d1 = np.append(d1, C10, axis=1)\n",
    "d1 = np.append(d1, C11, axis=1)\n",
    "Xtest_ftr_extrct = np.append(d1, C12, axis=1)\n",
    "print(Xtest_ftr_extrct.shape)\n",
    "\n",
    "scalerTest = StandardScaler()\n",
    "scalerTest.fit(Xtest_ftr_extrct)\n",
    "inputECGITtest_scaled=scaler.transform(Xtest_ftr_extrct)\n",
    "\n",
    "#print(scaled[:3,:2])\n",
    "\n",
    "#Now apply PCA for Visulization\n",
    "pca = PCA(n_components=20)\n",
    "inputECGITtest_pca2=pca.fit_transform(inputECGITtest_scaled)\n",
    "\n",
    "#cancerTrainY=cancerTrainY.reshape(len(cancerTestX_pca))\n",
    "#Showing subset \n",
    "print(inputECGITtest_pca2[:2])\n",
    "print(inputECGITtest_pca2.shape)\n",
    "#print(.shape)"
   ]
  },
  {
   "cell_type": "code",
   "execution_count": 95,
   "metadata": {},
   "outputs": [
    {
     "name": "stdout",
     "output_type": "stream",
     "text": [
      "[0 0 1 0 0 0 1 0 0 1 0 0 1 0 0 0 0 1 0 1 1 0 1 0 0 1 0 0 0 0 0 1 1 1 0 1 0\n",
      " 1 0 0 0 0 0 0 0 0 1 0 0 1 0 1 1 1 0 1 1 1 0 1 0 0 1 1 0 0 1 0 1 1 1 1 0 0\n",
      " 0 0 1 0 0 1 1 0 1 1 1 1 0 0 0 0 1 1 0 0 0 1 0 0 0 0]\n",
      "100\n",
      "Accuracy 0.825\n"
     ]
    }
   ],
   "source": [
    "y_pred_testx = classifier.predict(inputECGITtest_pca2)\n",
    "print(y_pred_testx)\n",
    "print(len(y_pred_testx))\n",
    "from sklearn.metrics import accuracy_score\n",
    "acc = accuracy_score(TestY,y_pred)\n",
    "print(\"Accuracy\",acc) "
   ]
  },
  {
   "cell_type": "code",
   "execution_count": 96,
   "metadata": {},
   "outputs": [
    {
     "name": "stdout",
     "output_type": "stream",
     "text": [
      "[1 0 0 0 0 1 0 1 0 0]\n",
      "accuracy when max and min value: 3 5\n",
      "0.775\n",
      "[1 0 1 0 0 1 1 1 1 0]\n",
      "accuracy when max and min value: 10 4\n",
      "0.65\n",
      "[1 0 1 0 0 1 0 1 1 0]\n",
      "accuracy when max and min value: 10 5\n",
      "0.75\n",
      "[1 0 0 1 0 1 0 1 0 0]\n",
      "accuracy when max and min value: 2 2\n",
      "0.775\n",
      "[1 0 1 0 0 1 0 1 0 1]\n",
      "accuracy when max and min value: 12 1\n",
      "0.75\n",
      "best accuracy with optimal parameter 0.775 3 5\n"
     ]
    },
    {
     "data": {
      "text/plain": [
       "DecisionTreeClassifier(class_weight=None, criterion='gini', max_depth=3,\n",
       "                       max_features=None, max_leaf_nodes=None,\n",
       "                       min_impurity_decrease=0.0, min_impurity_split=None,\n",
       "                       min_samples_leaf=5, min_samples_split=2,\n",
       "                       min_weight_fraction_leaf=0.0, presort=False,\n",
       "                       random_state=100, splitter='best')"
      ]
     },
     "execution_count": 96,
     "metadata": {},
     "output_type": "execute_result"
    }
   ],
   "source": [
    "# Now Implement Decsion tree\n",
    "from sklearn import tree\n",
    "#clf_d = tree.DecisionTreeClassifier()\n",
    "def decsionTree(max_depth,min_sample_leaf):\n",
    "    \n",
    "    clf_gini = tree.DecisionTreeClassifier(criterion = \"gini\", random_state = 100,max_depth=max_depth, min_samples_leaf=min_sample_leaf)\n",
    "    clf_gini.fit(TrainX,TrainY)\n",
    "    y_predd = clf_gini.predict(TestX)\n",
    "    print(y_predd[:10])\n",
    "    acc = accuracy_score(TestY,y_predd)\n",
    "    print(\"accuracy when max and min value:\",max_depth,min_sample_leaf)\n",
    "    print(acc)\n",
    "    return acc,max_depth,min_sample_leaf\n",
    "acc_list_DT=[]\n",
    "acc_list_DT.append(decsionTree(3,5))\n",
    "acc_list_DT.append(decsionTree(10,4))\n",
    "acc_list_DT.append(decsionTree(10,5))\n",
    "acc_list_DT.append(decsionTree(2,2))\n",
    "acc_list_DT.append(decsionTree(12,1))\n",
    "acc_list_DT.sort()\n",
    "temp=acc_list_DT[-1]\n",
    "print(\"best accuracy with optimal parameter\",temp[0],temp[1],temp[2])\n",
    "maxdep=temp[1]\n",
    "leaf_sample=temp[2]\n",
    "b_model_DT=tree.DecisionTreeClassifier(criterion = \"gini\", random_state = 100,max_depth=maxdep, min_samples_leaf=leaf_sample)\n",
    "b_model_DT.fit(TrainX,TrainY)"
   ]
  },
  {
   "cell_type": "code",
   "execution_count": 97,
   "metadata": {},
   "outputs": [
    {
     "name": "stdout",
     "output_type": "stream",
     "text": [
      "[1 0 0 0 0 1 0 1 0 0]\n",
      "0.775\n"
     ]
    }
   ],
   "source": [
    "y_predd = b_model_DT.predict(TestX)\n",
    "print(y_predd[:10])\n",
    "acc = accuracy_score(TestY,y_predd)\n",
    "print(acc)"
   ]
  },
  {
   "cell_type": "code",
   "execution_count": 98,
   "metadata": {},
   "outputs": [
    {
     "name": "stdout",
     "output_type": "stream",
     "text": [
      "[0 0 0 0 1 0 1 1 0 1 0 0 1 0 0 0 1 1 0 1 1 0 1 0 0 1 0 0 0 1 0 1 1 1 1 1 1\n",
      " 1 0 0 0 0 0 1 1 0 1 0 1 1 0 1 1 1 0 0 0 1 1 0 1 0 1 1 1 0 1 0 1 1 1 1 0 1\n",
      " 0 0 1 0 1 0 1 1 1 1 1 1 0 0 0 0 1 1 1 0 0 1 0 0 0 0]\n",
      "100\n"
     ]
    }
   ],
   "source": [
    "y_pred_testx = b_model_DT.predict(inputECGITtest_pca2)\n",
    "print(y_pred_testx)\n",
    "print(len(y_pred_testx))"
   ]
  },
  {
   "cell_type": "code",
   "execution_count": 99,
   "metadata": {},
   "outputs": [
    {
     "name": "stderr",
     "output_type": "stream",
     "text": [
      "C:\\ProgramData\\Anaconda3\\lib\\site-packages\\sklearn\\neural_network\\multilayer_perceptron.py:566: ConvergenceWarning: Stochastic Optimizer: Maximum iterations (500) reached and the optimization hasn't converged yet.\n",
      "  % self.max_iter, ConvergenceWarning)\n"
     ]
    },
    {
     "name": "stdout",
     "output_type": "stream",
     "text": [
      "Accuracy with model: 1 0.725\n",
      "Accuracy with model: 2 0.75\n",
      "Accuracy with model: 3 0.675\n",
      "Accuracy with model: 4 0.75\n",
      "The Best model is : (0.75, MLPClassifier(activation='relu', alpha=0.0001, batch_size='auto', beta_1=0.9,\n",
      "              beta_2=0.999, early_stopping=False, epsilon=1e-08,\n",
      "              hidden_layer_sizes=(50, 80, 100), learning_rate='constant',\n",
      "              learning_rate_init=0.001, max_iter=500, momentum=0.9,\n",
      "              n_iter_no_change=10, nesterovs_momentum=True, power_t=0.5,\n",
      "              random_state=None, shuffle=True, solver='adam', tol=0.0001,\n",
      "              validation_fraction=0.1, verbose=False, warm_start=False))\n"
     ]
    },
    {
     "data": {
      "text/plain": [
       "MLPClassifier(activation='relu', alpha=0.0001, batch_size='auto', beta_1=0.9,\n",
       "              beta_2=0.999, early_stopping=False, epsilon=1e-08,\n",
       "              hidden_layer_sizes=(50, 80, 100), learning_rate='constant',\n",
       "              learning_rate_init=0.001, max_iter=500, momentum=0.9,\n",
       "              n_iter_no_change=10, nesterovs_momentum=True, power_t=0.5,\n",
       "              random_state=None, shuffle=True, solver='adam', tol=0.0001,\n",
       "              validation_fraction=0.1, verbose=False, warm_start=False)"
      ]
     },
     "execution_count": 99,
     "metadata": {},
     "output_type": "execute_result"
    }
   ],
   "source": [
    "#now ANN\n",
    "import numpy as np \n",
    "import matplotlib.pyplot as plt\n",
    "import sklearn\n",
    "from sklearn.neural_network import MLPClassifier\n",
    "from sklearn.neural_network import MLPRegressor\n",
    "\n",
    "# Import necessary modules\n",
    "from sklearn.model_selection import train_test_split\n",
    "from sklearn.metrics import mean_squared_error\n",
    "from math import sqrt\n",
    "from sklearn.metrics import r2_score\n",
    "mlp1 = MLPClassifier(hidden_layer_sizes=(60,80,90), activation='relu', solver='adam', max_iter=500)\n",
    "mlp1.fit(TrainX,TrainY)\n",
    "#2nd model\n",
    "mlp2 = MLPClassifier(hidden_layer_sizes=(10,10,10), activation='relu', solver='adam', max_iter=500)\n",
    "mlp2.fit(TrainX,TrainY)\n",
    "#3rd model\n",
    "mlp3 = MLPClassifier(hidden_layer_sizes=(10,20,30), activation='relu', solver='adam', max_iter=500)\n",
    "mlp3.fit(TrainX,TrainY)\n",
    "#4th model\n",
    "mlp4 = MLPClassifier(hidden_layer_sizes=(50,80,100), activation='relu', solver='adam', max_iter=500)\n",
    "mlp4.fit(TrainX,TrainY)\n",
    "\n",
    "def predandacc(model,model_n):\n",
    "    predict_test = model.predict(TestX)\n",
    "    #print(predict_test[:10])\n",
    "    #print(len(predict_test))\n",
    "    from sklearn.metrics import accuracy_score\n",
    "    acc = accuracy_score(TestY,predict_test)\n",
    "    print(\"Accuracy with model:\",model_n,acc)\n",
    "    return acc,model\n",
    "acc_list=[]\n",
    "acc_list.append(predandacc(mlp1,1))\n",
    "acc_list.append(predandacc(mlp2,2))\n",
    "acc_list.append(predandacc(mlp3,3))\n",
    "acc_list.append(predandacc(mlp4,4))\n",
    "def takeFirst(elem):\n",
    "    return elem[0]\n",
    "\n",
    "acc_list.sort(key=takeFirst)\n",
    "#random.sort(key=takeSecond)\n",
    "temp=acc_list[-1]\n",
    "#best_model=temp[0][1]\n",
    "print(\"The Best model is :\",temp)\n",
    "b_model=temp[1]\n",
    "#print(b_model)\n",
    "#train model with best classifier \n",
    "b_model.fit(TrainX,TrainY)"
   ]
  },
  {
   "cell_type": "code",
   "execution_count": 84,
   "metadata": {},
   "outputs": [
    {
     "name": "stdout",
     "output_type": "stream",
     "text": [
      "[0 1 1 1 1 0 1 1 0 1 0 1 1 0 1 1 1 1 1 1 1 0 1 1 0 1 0 1 1 1 1 1 1 0 1 1 1\n",
      " 1 0 1 1 0 0 1 1 0 1 1 1 1 1 1 1 1 0 1 1 1 1 0 1 0 1 1 0 0 1 1 1 1 1 1 1 1\n",
      " 1 1 1 0 0 0 1 1 0 1 1 1 1 0 0 0 1 1 0 0 0 1 1 0 1 1]\n",
      "100\n"
     ]
    }
   ],
   "source": [
    "y_pred_testx = b_model.predict(inputECGITtest_pca2)\n",
    "print(y_pred_testx)\n",
    "print(len(y_pred_testx))"
   ]
  },
  {
   "cell_type": "code",
   "execution_count": null,
   "metadata": {},
   "outputs": [],
   "source": []
  }
 ],
 "metadata": {
  "kernelspec": {
   "display_name": "Python 3",
   "language": "python",
   "name": "python3"
  },
  "language_info": {
   "codemirror_mode": {
    "name": "ipython",
    "version": 3
   },
   "file_extension": ".py",
   "mimetype": "text/x-python",
   "name": "python",
   "nbconvert_exporter": "python",
   "pygments_lexer": "ipython3",
   "version": "3.7.3"
  }
 },
 "nbformat": 4,
 "nbformat_minor": 2
}
