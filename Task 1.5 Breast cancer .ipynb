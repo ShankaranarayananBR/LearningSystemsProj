{
 "cells": [
  {
   "cell_type": "code",
   "execution_count": 23,
   "metadata": {},
   "outputs": [
    {
     "name": "stdout",
     "output_type": "stream",
     "text": [
      "(30, 400)\n",
      "[[1.453e+01 1.136e+01 1.768e+01 1.902e+01 2.048e+01]\n",
      " [1.398e+01 1.757e+01 2.074e+01 2.459e+01 2.146e+01]\n",
      " [9.386e+01 7.249e+01 1.174e+02 1.220e+02 1.325e+02]\n",
      " [6.442e+02 3.998e+02 9.637e+02 1.076e+03 1.306e+03]\n",
      " [1.099e-01 8.858e-02 1.115e-01 9.029e-02 8.355e-02]]\n",
      "(1, 400)\n",
      "[[0 0 1 1 1]]\n"
     ]
    }
   ],
   "source": [
    "from scipy.io import loadmat\n",
    "from sklearn.feature_selection import SelectKBest\n",
    "from sklearn.feature_selection import chi2\n",
    "from sklearn.decomposition import PCA\n",
    "import numpy as np\n",
    "import matplotlib.pylab as plt\n",
    "from sklearn import preprocessing\n",
    "from sklearn.preprocessing import StandardScaler\n",
    "\n",
    "#Loading datasets\n",
    "mat = loadmat(\"cancerWTrain.mat\")\n",
    "cancerTrainX = mat[\"cancerTrainX\"]\n",
    "cancerTrainY = mat[\"cancerTrainY\"]\n",
    "print(cancerTrainX.shape)\n",
    "print(cancerTrainX[:5,:5])\n",
    "print(cancerTrainY.shape)\n",
    "print(cancerTrainY[:5,:5])\n",
    "\n",
    "#we have to take transpose for change the shape of cancerTrainX\n",
    "cancerTrainX=cancerTrainX.transpose()\n",
    "cancerTrainY=cancerTrainY.transpose()"
   ]
  },
  {
   "cell_type": "code",
   "execution_count": 24,
   "metadata": {},
   "outputs": [
    {
     "name": "stdout",
     "output_type": "stream",
     "text": [
      "(400, 30)\n",
      "[[ 0.11460184 -1.24395724  0.07895931 -0.03005724  0.96753454]\n",
      " [-0.80287855 -0.39483967 -0.81669104 -0.72915924 -0.52140722]\n",
      " [ 1.02629371  0.35493824  1.06555778  0.88386702  1.07927501]\n",
      " [ 1.41412453  1.26555179  1.25835102  1.20509924 -0.40198459]\n",
      " [ 1.83668648  0.5252348   1.69842255  1.86301029 -0.87269132]]\n",
      "(400,)\n",
      "[0 0 1 1 1]\n"
     ]
    }
   ],
   "source": [
    "cancerTrainY=cancerTrainY.reshape(len(cancerTrainX))\n",
    "\n",
    "#Data preprocessing i.e \n",
    "scaler = StandardScaler()\n",
    "scaler.fit(cancerTrainX)\n",
    "scaled_cancer_trainx=scaler.transform(cancerTrainX)\n",
    "print(scaled_cancer_trainx.shape)\n",
    "print(scaled_cancer_trainx[:5,:5])\n",
    "print(cancerTrainY.shape)\n",
    "print(cancerTrainY[:5])\n",
    "\n",
    "\n"
   ]
  },
  {
   "cell_type": "code",
   "execution_count": 25,
   "metadata": {},
   "outputs": [
    {
     "name": "stdout",
     "output_type": "stream",
     "text": [
      "[[-1.07976537 -0.42205276]\n",
      " [-2.85194933 -0.37931792]]\n",
      "[0 0]\n"
     ]
    }
   ],
   "source": [
    "#Now apply PCA for Visulization\n",
    "pca = PCA(n_components=2)\n",
    "cancerTrainX_pca=pca.fit_transform(scaled_cancer_trainx)\n",
    "\n",
    "cancerTrainY=cancerTrainY.reshape(len(cancerTrainX_pca))\n",
    "#Showing subset \n",
    "print(cancerTrainX_pca[:2])\n",
    "print(cancerTrainY[:2])"
   ]
  },
  {
   "cell_type": "code",
   "execution_count": 22,
   "metadata": {},
   "outputs": [
    {
     "name": "stderr",
     "output_type": "stream",
     "text": [
      "C:\\ProgramData\\Anaconda3\\lib\\site-packages\\ipykernel_launcher.py:7: UserWarning: Matplotlib is currently using module://ipykernel.pylab.backend_inline, which is a non-GUI backend, so cannot show the figure.\n",
      "  import sys\n"
     ]
    },
    {
     "data": {
      "image/png": "[encoded data removed]",
      "text/plain": [
       "<Figure size 432x288 with 1 Axes>"
      ]
     },
     "metadata": {
      "needs_background": "light"
     },
     "output_type": "display_data"
    }
   ],
   "source": [
    "fig,ax=plt.subplots()\n",
    "X0 = cancerTrainX_pca[cancerTrainY==0]\n",
    "X1 = cancerTrainX_pca[cancerTrainY==1]\n",
    "ax.scatter(X0[:,0], X0[:,1], color=\"red\", marker=\"$0$\", label=\"begin=0)\")\n",
    "ax.scatter(X1[:,0], X1[:,1], color=\"blue\", marker=\"$1$\", label=\"malignant=1)\")\n",
    "ax.legend()\n",
    "fig.show() "
   ]
  },
  {
   "cell_type": "code",
   "execution_count": 27,
   "metadata": {},
   "outputs": [
    {
     "name": "stdout",
     "output_type": "stream",
     "text": [
      "[[-1.07976537 -0.42205276 -0.53030854  2.14491203 -0.18668117 -0.53646022\n",
      "  -0.41842725 -0.43491418 -0.48973624 -0.13620123  0.26913842 -0.855192\n",
      "  -0.28745922  0.01953258  0.445493  ]\n",
      " [-2.85194933 -0.37931792 -0.96447876 -1.67848222 -0.53266037 -0.44011678\n",
      "   0.04002356 -0.29517087  0.68967407 -0.52028224  0.37893741  0.65301396\n",
      "  -0.56758839  0.16248136 -0.02175003]]\n"
     ]
    }
   ],
   "source": [
    "from sklearn.model_selection import train_test_split\n",
    "from sklearn.preprocessing import StandardScaler\n",
    "from sklearn.neighbors import KNeighborsClassifier\n",
    "\n",
    "######  PCA, Split Data, ,Prediction Manually  #######\n",
    "\n",
    "pca = PCA(n_components=15)\n",
    "cancerTrainXpca2=pca.fit_transform(scaled_cancer_trainx)\n",
    "print(cancerTrainXpca2[:2])\n",
    "#cancerTrainY=cancerTrainY.reshape(len(cancerTrainX))\n",
    "TrainX, TestX, TrainY,TestY = train_test_split(cancerTrainXpca2, cancerTrainY, test_size=0.40)"
   ]
  },
  {
   "cell_type": "code",
   "execution_count": 30,
   "metadata": {},
   "outputs": [
    {
     "name": "stdout",
     "output_type": "stream",
     "text": [
      "[0 1 0 1 0 1 0 1 1 0 1 0 1 0 0 1 0 0 1 0 1 0 1 0 0 0 0 0 0 0 0 0 0 0 0 0 0\n",
      " 1 0 0 0 0 0 0 1 1 0 1 0 0 0 1 0 0 0 1 0 0 0 0 0 1 0 0 1 1 0 0 0 1 0 0 1 0\n",
      " 0 1 0 1 0 0 1 0 1 0 0 0 0 0 0 0 0 1 0 0 0 0 0 0 0 1 0 1 1 0 1 1 0 0 0 0 0\n",
      " 0 0 1 0 0 0 0 0 0 0 0 1 1 0 1 0 1 0 1 0 0 0 0 0 0 1 0 0 0 1 0 1 1 0 0 0 0\n",
      " 1 0 1 1 1 0 0 0 1 0 0 0]\n",
      "160\n",
      "[[105   0]\n",
      " [  8  47]]\n",
      "              precision    recall  f1-score   support\n",
      "\n",
      "           0       0.93      1.00      0.96       105\n",
      "           1       1.00      0.85      0.92        55\n",
      "\n",
      "    accuracy                           0.95       160\n",
      "   macro avg       0.96      0.93      0.94       160\n",
      "weighted avg       0.95      0.95      0.95       160\n",
      "\n",
      "0.95\n"
     ]
    }
   ],
   "source": [
    "'''################### Bu Using KNN ##########################'''\n",
    "classifier = KNeighborsClassifier(n_neighbors=10)\n",
    "classifier.fit(TrainX,TrainY)\n",
    "#Prediction \n",
    "y_pred = classifier.predict(TestX)\n",
    "y_pred_train=classifier.predict(TrainX)\n",
    "print(y_pred)\n",
    "print(len(y_pred))\n",
    "from sklearn.metrics import classification_report, confusion_matrix\n",
    "print(confusion_matrix(TestY, y_pred))\n",
    "print(classification_report(TestY, y_pred))\n",
    "from sklearn.metrics import accuracy_score\n",
    "acc = accuracy_score(TestY,y_pred)\n",
    "print(acc)"
   ]
  },
  {
   "cell_type": "code",
   "execution_count": 31,
   "metadata": {},
   "outputs": [
    {
     "name": "stdout",
     "output_type": "stream",
     "text": [
      "[0.9375     0.91666667 0.95833333 0.95833333 0.95833333]\n",
      "0.9458333333333334\n"
     ]
    }
   ],
   "source": [
    "#Cross validation\n",
    "from sklearn.model_selection import cross_val_score\n",
    "import numpy as np\n",
    "#create a new KNN model\n",
    "knn_cv = KNeighborsClassifier(n_neighbors=5)\n",
    "#train model with cv of 5 \n",
    "cv_scores = cross_val_score(knn_cv, TrainX, TrainY, cv=5)\n",
    "#print each cv score (accuracy) and average them\n",
    "print(cv_scores)\n",
    "print(np.mean(cv_scores))"
   ]
  },
  {
   "cell_type": "code",
   "execution_count": 35,
   "metadata": {},
   "outputs": [
    {
     "name": "stdout",
     "output_type": "stream",
     "text": [
      "Best Accuracy  0.9458333333333333\n",
      "{'n_neighbors': 5}\n",
      "KNeighborsClassifier(algorithm='auto', leaf_size=30, metric='minkowski',\n",
      "                     metric_params=None, n_jobs=None, n_neighbors=5, p=2,\n",
      "                     weights='uniform')\n",
      "optimal k=  5\n"
     ]
    }
   ],
   "source": [
    "#Hyper Parameter Tunning i.e K best value\n",
    "\n",
    "from sklearn.model_selection import GridSearchCV\n",
    "k_range = list(range(1,30))\n",
    "param_grid = dict(n_neighbors = k_range)\n",
    "\n",
    "#print (param_grid)\n",
    "knn = KNeighborsClassifier()\n",
    "grid = GridSearchCV(knn, param_grid, cv = 5, scoring = 'accuracy')\n",
    "grid.fit(TrainX,TrainY)\n",
    "print (\"Best Accuracy \",grid.best_score_)\n",
    "print (grid.best_params_)\n",
    "print (grid.best_estimator_)\n",
    "param=grid.best_params_\n",
    "#Best Parameters\n",
    "best_params=param.get('n_neighbors')\n",
    "print(\"optimal k= \",best_params)"
   ]
  },
  {
   "cell_type": "code",
   "execution_count": 36,
   "metadata": {},
   "outputs": [
    {
     "name": "stdout",
     "output_type": "stream",
     "text": [
      "(160, 15)\n",
      "[0 1 0 1 0 1 0 1 1 0 1 0 1 0 0 1 0 0 1 0 1 0 1 0 0 0 0 0 0 0 0 0 0 0 0 0 0\n",
      " 1 0 0 1 0 0 0 1 1 0 1 0 0 0 1 0 0 0 1 0 0 0 0 0 1 0 0 1 1 0 0 0 1 0 0 1 0\n",
      " 0 1 0 1 0 1 1 1 1 0 1 0 0 0 0 0 0 1 0 0 0 0 0 0 0 1 0 1 1 0 1 1 0 0 0 0 0\n",
      " 0 0 1 0 0 0 0 0 0 0 0 1 1 0 1 0 1 0 1 0 0 0 0 0 0 1 0 0 0 1 0 1 1 0 0 0 0\n",
      " 1 0 1 1 1 0 0 0 1 0 0 0]\n",
      "160\n",
      "[[103   2]\n",
      " [  6  49]]\n",
      "              precision    recall  f1-score   support\n",
      "\n",
      "           0       0.94      0.98      0.96       105\n",
      "           1       0.96      0.89      0.92        55\n",
      "\n",
      "    accuracy                           0.95       160\n",
      "   macro avg       0.95      0.94      0.94       160\n",
      "weighted avg       0.95      0.95      0.95       160\n",
      "\n",
      "0.95\n"
     ]
    }
   ],
   "source": [
    "#Train model according to best parameter\n",
    "classifier = KNeighborsClassifier(n_neighbors=best_params)\n",
    "classifier.fit(TrainX,TrainY)\n",
    "print(TestX.shape)\n",
    "\n",
    "y_pred = classifier.predict(TestX)\n",
    "#y_pred_train=classifier.predict(TrainX)\n",
    "print(y_pred)\n",
    "print(len(y_pred))\n",
    "from sklearn.metrics import classification_report, confusion_matrix\n",
    "print(confusion_matrix(TestY, y_pred))\n",
    "print(classification_report(TestY, y_pred))\n",
    "from sklearn.metrics import accuracy_score\n",
    "acc = accuracy_score(TestY,y_pred)\n",
    "print(acc) "
   ]
  },
  {
   "cell_type": "code",
   "execution_count": 38,
   "metadata": {},
   "outputs": [
    {
     "name": "stdout",
     "output_type": "stream",
     "text": [
      "[[-2.36068181e+00 -1.46438278e+00 -3.97105627e-01 -1.43132079e+00\n",
      "  -2.99911277e-01 -1.67201342e-01 -6.88878212e-01  1.21166357e-01\n",
      "   3.00472832e-01 -1.55395867e-01 -1.36196205e-01 -1.63594925e-01\n",
      "   1.29768868e-01 -3.68443701e-02  2.44401218e-01]\n",
      " [-1.86606906e+00  3.40544799e+00  1.69756599e+00 -7.73369604e-02\n",
      "   6.26608288e-01 -4.40811853e-01  1.18646606e-01  8.95102496e-01\n",
      "  -5.98644491e-01 -4.93351375e-01  7.27303935e-01  3.82914913e-01\n",
      "  -2.39278460e-03 -1.81937323e-01 -2.42811737e-01]]\n",
      "(169, 15)\n"
     ]
    }
   ],
   "source": [
    "#Working on Test Data\n",
    "cancerTestX = mat[\"cancerTestX\"]\n",
    "cancerTestX = cancerTestX.transpose()\n",
    "#Data preprocessing i.e \n",
    "scalerTest = StandardScaler()\n",
    "scalerTest.fit(cancerTestX)\n",
    "scaled_cancer_testx=scaler.transform(cancerTestX)\n",
    "\n",
    "#print(scaled[:3,:2])\n",
    "\n",
    "#Now apply PCA for Visulization\n",
    "pca = PCA(n_components=15)\n",
    "cancerTestX_pca2=pca.fit_transform(scaled_cancer_testx)\n",
    "\n",
    "#cancerTrainY=cancerTrainY.reshape(len(cancerTestX_pca))\n",
    "#Showing subset \n",
    "print(cancerTestX_pca2[:2])\n",
    "print(cancerTestX_pca2.shape)\n",
    "#print(.shape)\n",
    "\n"
   ]
  },
  {
   "cell_type": "code",
   "execution_count": 39,
   "metadata": {},
   "outputs": [
    {
     "name": "stdout",
     "output_type": "stream",
     "text": [
      "[0 0 1 0 0 1 0 0 1 0 1 0 0 0 0 0 1 0 0 0 0 0 0 0 1 0 0 1 0 0 1 1 0 1 1 1 0\n",
      " 0 0 0 1 1 1 1 0 0 1 0 0 0 0 0 1 0 0 0 1 0 0 1 1 1 0 1 0 0 0 1 0 1 1 0 0 1\n",
      " 0 1 0 0 0 1 1 0 0 1 0 1 1 0 1 0 1 1 0 1 0 0 0 0 0 0 0 0 0 1 1 1 1 1 0 0 1\n",
      " 1 1 0 0 0 0 0 1 0 0 0 1 1 1 1 1 0 1 0 1 1 0 0 1 1 0 0 0 0 0 1 0 0 0 0 1 0\n",
      " 0 0 1 0 1 0 0 1 0 0 0 0 0 0 0 0 0 0 1 1 0]\n",
      "169\n"
     ]
    }
   ],
   "source": [
    "y_pred_testx = classifier.predict(cancerTestX_pca2)\n",
    "print(y_pred_testx)\n",
    "print(len(y_pred_testx))"
   ]
  },
  {
   "cell_type": "code",
   "execution_count": 42,
   "metadata": {},
   "outputs": [
    {
     "name": "stdout",
     "output_type": "stream",
     "text": [
      "[1 1 0 0 1 0 0 0 0 1]\n",
      "160\n",
      "0.96875\n"
     ]
    }
   ],
   "source": [
    "''' Now Implementing ANN '''\n",
    "import numpy as np \n",
    "import matplotlib.pyplot as plt\n",
    "import sklearn\n",
    "from sklearn.neural_network import MLPClassifier\n",
    "from sklearn.neural_network import MLPRegressor\n",
    "\n",
    "# Import necessary modules\n",
    "from sklearn.model_selection import train_test_split\n",
    "from sklearn.metrics import mean_squared_error\n",
    "from math import sqrt\n",
    "from sklearn.metrics import r2_score\n",
    "\n",
    "#TrainX, TestX, TrainY,TestY = train_test_split(cancerTrainXpca2, cancerTrainY, test_size=0.40)\n",
    "mlp = MLPClassifier(hidden_layer_sizes=(8,8,8), activation='relu', solver='adam', max_iter=500)\n",
    "mlp.fit(TrainX,TrainY)\n",
    "\n",
    "\n",
    "\n",
    "\n",
    "\n",
    "predict_train = mlp.predict(TrainX)\n",
    "predict_test = mlp.predict(TestX)\n",
    "print(predict_test[:10])\n",
    "print(len(predict_test))\n",
    "#print()\n",
    "\n",
    "#Accuracy\n",
    "from sklearn.metrics import accuracy_score\n",
    "acc = accuracy_score(TestY,predict_test)\n",
    "print(acc)"
   ]
  },
  {
   "cell_type": "code",
   "execution_count": 44,
   "metadata": {},
   "outputs": [
    {
     "name": "stderr",
     "output_type": "stream",
     "text": [
      "C:\\ProgramData\\Anaconda3\\lib\\site-packages\\sklearn\\model_selection\\_search.py:813: DeprecationWarning: The default of the `iid` parameter will change from True to False in version 0.22 and will be removed in 0.24. This will change numeric results when test-set sizes are unequal.\n",
      "  DeprecationWarning)\n"
     ]
    },
    {
     "name": "stdout",
     "output_type": "stream",
     "text": [
      "Best parameters found:\n",
      " {'activation': 'relu', 'alpha': 0.0001, 'hidden_layer_sizes': (100,), 'learning_rate': 'constant', 'solver': 'adam'}\n",
      "[1 1 0 0 1 0 0 0 0 0]\n",
      "0.98125\n"
     ]
    }
   ],
   "source": [
    "parameter_space = {\n",
    "    'hidden_layer_sizes': [(50,50,50), (50,100,50), (100,)],\n",
    "    'activation': ['tanh', 'relu'],\n",
    "    'solver': ['sgd', 'adam'],\n",
    "    'alpha': [0.0001, 0.05],\n",
    "    'learning_rate': ['constant','adaptive'],\n",
    "}\n",
    "from sklearn.model_selection import GridSearchCV\n",
    "\n",
    "clf = GridSearchCV(mlp, parameter_space, n_jobs=-1, cv=3)\n",
    "clf.fit(TrainX,TrainY)\n",
    "\n",
    "print('Best parameters found:\\n', clf.best_params_)\n",
    "y_pred = clf.predict(TestX)\n",
    "print(y_pred[:10])\n",
    "from sklearn.metrics import accuracy_score\n",
    "acc = accuracy_score(TestY,y_pred)\n",
    "print(acc)"
   ]
  },
  {
   "cell_type": "code",
   "execution_count": 45,
   "metadata": {},
   "outputs": [
    {
     "name": "stdout",
     "output_type": "stream",
     "text": [
      "[0 0 1 0 0 1 0 0 1 0 1 0 0 0 0 0 1 0 0 0 0 0 0 0 1 0 0 1 0 0 1 1 1 1 1 1 0\n",
      " 0 0 0 1 1 1 1 0 0 1 0 0 0 0 0 1 0 0 0 1 0 0 1 1 1 0 1 0 0 0 1 0 1 1 0 0 1\n",
      " 0 1 0 0 0 1 1 0 1 1 0 1 1 1 1 1 1 1 0 1 0 0 0 0 0 0 0 0 0 1 1 1 1 1 0 0 1\n",
      " 1 1 0 0 0 0 0 1 0 1 0 1 1 1 1 1 0 1 0 1 1 1 0 1 1 0 0 0 0 0 1 0 0 0 1 1 0\n",
      " 0 0 1 0 1 0 0 1 0 0 0 0 0 0 0 0 1 0 1 1 0]\n",
      "169\n"
     ]
    }
   ],
   "source": [
    "# Now prediction with Test Data\n",
    "y_pred_testx = clf.predict(cancerTestX_pca2)\n",
    "print(y_pred_testx)\n",
    "print(len(y_pred_testx))"
   ]
  },
  {
   "cell_type": "code",
   "execution_count": 59,
   "metadata": {},
   "outputs": [
    {
     "name": "stdout",
     "output_type": "stream",
     "text": [
      "[1 1 0 0 1 0 0 0 0 1]\n",
      "accuracy when max and min value: 3 5\n",
      "0.90625\n",
      "[1 1 0 0 1 0 0 0 0 0]\n",
      "accuracy when max and min value: 10 4\n",
      "0.925\n",
      "[1 1 0 0 1 0 0 0 0 0]\n",
      "accuracy when max and min value: 10 5\n",
      "0.925\n",
      "[1 1 0 0 1 0 0 0 0 1]\n",
      "accuracy when max and min value: 2 2\n",
      "0.90625\n",
      "[1 1 0 0 1 0 0 0 0 0]\n",
      "accuracy when max and min value: 12 1\n",
      "0.9125\n",
      "Best accuracy with parameters  0.925 10 5\n"
     ]
    },
    {
     "data": {
      "text/plain": [
       "DecisionTreeClassifier(class_weight=None, criterion='gini', max_depth=10,\n",
       "                       max_features=None, max_leaf_nodes=None,\n",
       "                       min_impurity_decrease=0.0, min_impurity_split=None,\n",
       "                       min_samples_leaf=5, min_samples_split=2,\n",
       "                       min_weight_fraction_leaf=0.0, presort=False,\n",
       "                       random_state=100, splitter='best')"
      ]
     },
     "execution_count": 59,
     "metadata": {},
     "output_type": "execute_result"
    }
   ],
   "source": [
    "## Decsion Tree\n",
    "from sklearn import tree\n",
    "#clf_d = tree.DecisionTreeClassifier()\n",
    "def decsionTree(max_depth,min_sample_leaf):\n",
    "    \n",
    "    clf_gini = tree.DecisionTreeClassifier(criterion = \"gini\", random_state = 100,max_depth=max_depth, min_samples_leaf=min_sample_leaf)\n",
    "    clf_gini.fit(TrainX,TrainY)\n",
    "    y_predd = clf_gini.predict(TestX)\n",
    "    print(y_predd[:10])\n",
    "    acc = accuracy_score(TestY,y_predd)\n",
    "    print(\"accuracy when max and min value:\",max_depth,min_sample_leaf)\n",
    "    print(acc)\n",
    "    return acc,max_depth,min_sample_leaf\n",
    "acc_list_DT=[]\n",
    "acc_list_DT.append(decsionTree(3,5))\n",
    "acc_list_DT.append(decsionTree(10,4))\n",
    "acc_list_DT.append(decsionTree(10,5))\n",
    "acc_list_DT.append(decsionTree(2,2))\n",
    "acc_list_DT.append(decsionTree(12,1))\n",
    "acc_list_DT.sort()\n",
    "temp=acc_list_DT[-1]\n",
    "print(\"Best accuracy with parameters \",temp[0],temp[1],temp[2])\n",
    "maxdep=temp[1]\n",
    "leaf_sample=temp[2]\n",
    "#print(\"\\nbest accuracy with model\",temp[],temp[0])\n",
    "b_model_DT=tree.DecisionTreeClassifier(criterion = \"gini\", random_state = 100,max_depth=maxdep, min_samples_leaf=leaf_sample)\n",
    "b_model_DT.fit(TrainX,TrainY)"
   ]
  },
  {
   "cell_type": "code",
   "execution_count": 100,
   "metadata": {},
   "outputs": [
    {
     "name": "stdout",
     "output_type": "stream",
     "text": [
      "[0 0 0 1 0 1 0 1 0 0]\n",
      "0.9375\n"
     ]
    }
   ],
   "source": [
    "clf= tree.DecisionTreeClassifier(criterion = \"gini\", random_state = 100,max_depth=10, min_samples_leaf=4)\n",
    "clf.fit(TrainX,TrainY)\n",
    "y_predd = clf.predict(TestX)\n",
    "print(y_predd[:10])\n",
    "acc = accuracy_score(TestY,y_predd)\n",
    "print(acc)"
   ]
  },
  {
   "cell_type": "code",
   "execution_count": 101,
   "metadata": {},
   "outputs": [
    {
     "name": "stdout",
     "output_type": "stream",
     "text": [
      "[0 0 1 0 0 1 0 0 1 0 1 0 0 0 0 0 1 0 0 0 0 0 0 0 1 0 0 1 0 0 1 1 1 1 1 1 0\n",
      " 0 0 0 1 1 1 1 0 0 1 0 0 0 0 0 1 0 0 0 1 0 0 1 1 1 0 1 0 0 0 1 0 1 1 0 0 1\n",
      " 0 1 0 0 0 1 1 0 1 1 0 1 1 1 1 1 1 1 0 1 0 0 0 0 0 0 0 0 0 1 1 1 1 1 0 0 1\n",
      " 1 1 0 0 0 0 0 1 0 1 0 1 1 1 1 1 0 1 0 1 1 1 0 1 1 0 0 0 0 0 1 1 0 0 1 1 0\n",
      " 0 0 1 0 1 0 0 1 0 0 0 0 0 0 0 0 1 0 1 1 0]\n",
      "169\n"
     ]
    }
   ],
   "source": [
    "y_pred_testx_d = clf.predict(cancerTestX_pca2)\n",
    "print(y_pred_testx)\n",
    "print(len(y_pred_testx))"
   ]
  }
 ],
 "metadata": {
  "kernelspec": {
   "display_name": "Python 3",
   "language": "python",
   "name": "python3"
  },
  "language_info": {
   "codemirror_mode": {
    "name": "ipython",
    "version": 3
   },
   "file_extension": ".py",
   "mimetype": "text/x-python",
   "name": "python",
   "nbconvert_exporter": "python",
   "pygments_lexer": "ipython3",
   "version": "3.7.3"
  }
 },
 "nbformat": 4,
 "nbformat_minor": 2
}
