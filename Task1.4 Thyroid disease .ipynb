{
 "cells": [
  {
   "cell_type": "code",
   "execution_count": 39,
   "metadata": {},
   "outputs": [
    {
     "name": "stdout",
     "output_type": "stream",
     "text": [
      "trainThyroidInput shape (5000, 21)\n",
      "trainThyroidOutput shape (5000, 3)\n",
      "\n",
      "small subset trainThyroidInput\n",
      "\n",
      "[[0.28 0.   1.   0.   0.   0.   1.   0.   0.   0.   0.   0.   0.   0.  ]\n",
      " [0.45 0.   0.   0.   0.   0.   0.   0.   0.   0.   0.   0.   0.   0.  ]\n",
      " [0.77 0.   0.   0.   0.   0.   0.   0.   0.   1.   1.   0.   0.   0.  ]\n",
      " [0.72 0.   1.   0.   1.   0.   0.   0.   0.   0.   0.   0.   0.   0.  ]\n",
      " [0.78 0.   0.   0.   0.   0.   0.   0.   0.   0.   0.   0.   0.   0.  ]\n",
      " [0.74 0.   0.   0.   0.   0.   0.   0.   0.   0.   0.   0.   0.   0.  ]\n",
      " [0.48 0.   0.   0.   0.   0.   0.   0.   0.   0.   0.   0.   0.   0.  ]\n",
      " [0.51 0.   0.   0.   0.   0.   0.   0.   0.   0.   0.   0.   0.   0.  ]\n",
      " [0.45 1.   0.   0.   0.   1.   0.   0.   0.   0.   0.   0.   0.   0.  ]\n",
      " [0.46 1.   0.   0.   0.   0.   0.   0.   0.   0.   0.   0.   0.   0.  ]]\n",
      "\n",
      "small subset of trainThyroidOutput\n",
      "\n",
      "[[0 0 1]\n",
      " [0 0 1]\n",
      " [0 0 1]\n",
      " [0 0 1]\n",
      " [0 0 1]\n",
      " [0 0 1]\n",
      " [0 1 0]\n",
      " [0 0 1]\n",
      " [0 0 1]\n",
      " [0 0 1]]\n"
     ]
    }
   ],
   "source": [
    "from scipy.io import loadmat\n",
    "from sklearn.feature_selection import SelectKBest\n",
    "from sklearn.feature_selection import chi2\n",
    "from sklearn.decomposition import PCA\n",
    "import numpy as np\n",
    "import matplotlib.pylab as plt\n",
    "from sklearn import preprocessing\n",
    "from sklearn.preprocessing import StandardScaler\n",
    "\n",
    "#Loading datasets\n",
    "mat = loadmat(\"thyroidTrain.mat\")\n",
    "trainThyroidInput = mat[\"trainThyroidInput\"]\n",
    "trainThyroidOutput= mat[\"trainThyroidOutput\"]\n",
    "#display subset of the data\n",
    "print(\"trainThyroidInput shape\",trainThyroidInput.shape)\n",
    "print(\"trainThyroidOutput shape\",trainThyroidOutput.shape)\n",
    "print(\"\\nsmall subset trainThyroidInput\\n\")\n",
    "print(trainThyroidInput[:10,:14])\n",
    "print(\"\\nsmall subset of trainThyroidOutput\\n\")\n",
    "print(trainThyroidOutput[:10])"
   ]
  },
  {
   "cell_type": "code",
   "execution_count": 40,
   "metadata": {},
   "outputs": [
    {
     "name": "stdout",
     "output_type": "stream",
     "text": [
      "[3. 3. 3. ... 3. 1. 3.]\n",
      "[[-4.25832468e-03  7.32175858e-01 -1.42659502e-01 -7.05370026e-02\n",
      "   9.14025044e-02  6.52009793e-02  1.58463307e-01  4.87371464e-02\n",
      "   9.31391528e-02 -6.35016622e-02  5.94074208e-03  3.28162264e-02\n",
      "   4.92238976e-02  3.91294990e-01  5.16791427e-01 -2.95104869e-02\n",
      "  -2.68465488e-02  2.33321446e-02]\n",
      " [-3.79072084e-01 -1.97477055e-01 -6.29405322e-02 -1.55545704e-02\n",
      "   5.21134042e-04 -2.29589267e-02  4.64942135e-02  8.46944024e-02\n",
      "  -2.83295881e-02  4.64921225e-03  1.60179879e-03 -4.73677518e-03\n",
      "  -3.55008077e-03 -1.00612524e-02 -2.84539040e-03 -4.47949061e-02\n",
      "   1.90597980e-02  1.55529003e-02]]\n",
      "[[0 0 1]\n",
      " [0 0 1]]\n"
     ]
    }
   ],
   "source": [
    "# Setting up a new trainOutput array\n",
    "trainOutput = np.zeros(trainThyroidOutput.shape[0])\n",
    "\n",
    "for i in range(len(trainThyroidOutput)):\n",
    "    if trainThyroidOutput[i][0] == 1:\n",
    "        trainOutput[i] = 1\n",
    "    elif trainThyroidOutput[i][1] == 1:\n",
    "        trainOutput[i] = 2\n",
    "    elif trainThyroidOutput[i][2] == 1:\n",
    "        trainOutput[i] = 3\n",
    "        \n",
    "print(trainOutput)\n",
    "\n",
    "\n",
    "pca = PCA(n_components=2)\n",
    "pca1=pca.fit_transform(trainThyroidInput)\n",
    "#cancerTrainX=pca.fit_transform(cancerTrainX)\n",
    "#trainThyroidOutput=trainThyroidOutput.reshape(len(trainThyroidInput_pca))\n",
    "\n",
    "#printing the subset of cancerTrainX and cancerTrainY\n",
    "print(trainThyroidInput_pca[:2])\n",
    "print(trainThyroidOutput[:2])"
   ]
  },
  {
   "cell_type": "code",
   "execution_count": 41,
   "metadata": {},
   "outputs": [
    {
     "name": "stderr",
     "output_type": "stream",
     "text": [
      "C:\\ProgramData\\Anaconda3\\lib\\site-packages\\ipykernel_launcher.py:9: UserWarning: Matplotlib is currently using module://ipykernel.pylab.backend_inline, which is a non-GUI backend, so cannot show the figure.\n",
      "  if __name__ == '__main__':\n"
     ]
    },
    {
     "data": {
      "image/png": "[encoded data removed]",
      "text/plain": [
       "<Figure size 432x288 with 1 Axes>"
      ]
     },
     "metadata": {
      "needs_background": "light"
     },
     "output_type": "display_data"
    }
   ],
   "source": [
    "fig,ax=plt.subplots()\n",
    "X0 = pca1[trainOutput==1]\n",
    "X1 = pca1[trainOutput==2]\n",
    "X2 = pca1[trainOutput==3]\n",
    "ax.scatter(X0[:,0], X0[:,1], color=\"red\", marker=\"$0$\", label=\"class=1)\")\n",
    "ax.scatter(X1[:,0], X1[:,1], color=\"blue\", marker=\"$*$\", label=\"class=2)\")\n",
    "ax.scatter(X2[:,0], X2[:,1], color=\"green\", marker=\"$1$\", label=\"class=3)\")\n",
    "ax.legend()\n",
    "fig.show() "
   ]
  },
  {
   "cell_type": "code",
   "execution_count": null,
   "metadata": {},
   "outputs": [],
   "source": []
  },
  {
   "cell_type": "code",
   "execution_count": 42,
   "metadata": {},
   "outputs": [
    {
     "name": "stdout",
     "output_type": "stream",
     "text": [
      "(3500, 21)\n",
      "(1500, 21)\n"
     ]
    }
   ],
   "source": [
    "#By Using ANN\n",
    "import numpy as np \n",
    "import matplotlib.pyplot as plt\n",
    "import sklearn\n",
    "from sklearn.neural_network import MLPClassifier\n",
    "from sklearn.neural_network import MLPRegressor\n",
    "\n",
    "# Import necessary modules\n",
    "from sklearn.model_selection import train_test_split\n",
    "from sklearn.metrics import mean_squared_error\n",
    "from math import sqrt\n",
    "from sklearn.metrics import r2_score\n",
    "\n",
    "\n",
    "\n",
    "X_train, X_test, y_train, y_test = train_test_split(trainThyroidInput, trainThyroidOutput, test_size=0.30, random_state=40)\n",
    "print(X_train.shape); print(X_test.shape)\n",
    "\n"
   ]
  },
  {
   "cell_type": "code",
   "execution_count": 53,
   "metadata": {},
   "outputs": [
    {
     "name": "stdout",
     "output_type": "stream",
     "text": [
      "\n",
      "Accuracy with  50,50,50: 0.9566666666666667\n"
     ]
    },
    {
     "name": "stderr",
     "output_type": "stream",
     "text": [
      "C:\\ProgramData\\Anaconda3\\lib\\site-packages\\sklearn\\neural_network\\multilayer_perceptron.py:566: ConvergenceWarning: Stochastic Optimizer: Maximum iterations (100) reached and the optimization hasn't converged yet.\n",
      "  % self.max_iter, ConvergenceWarning)\n"
     ]
    }
   ],
   "source": [
    "mlp = MLPClassifier(hidden_layer_sizes=(50,50,50),alpha=0.03, activation='relu', solver='adam', max_iter=100)\n",
    "mlp.fit(X_train,y_train)\n",
    "\n",
    "predict_train = mlp.predict(X_train)\n",
    "predict_test = mlp.predict(X_test)\n",
    "#print(predict_test[:10])\n",
    "#print(len(predict_test))\n",
    "print()\n",
    "\n",
    "from sklearn.metrics import accuracy_score\n",
    "acc = accuracy_score(y_test,predict_test)\n",
    "print(\"Accuracy with  50,50,50:\",acc)"
   ]
  },
  {
   "cell_type": "code",
   "execution_count": 72,
   "metadata": {},
   "outputs": [
    {
     "name": "stderr",
     "output_type": "stream",
     "text": [
      "C:\\ProgramData\\Anaconda3\\lib\\site-packages\\sklearn\\neural_network\\multilayer_perceptron.py:566: ConvergenceWarning: Stochastic Optimizer: Maximum iterations (500) reached and the optimization hasn't converged yet.\n",
      "  % self.max_iter, ConvergenceWarning)\n"
     ]
    },
    {
     "name": "stdout",
     "output_type": "stream",
     "text": [
      "Accuracy with model: 1 0.9686666666666667\n",
      "Accuracy with model: 2 0.966\n",
      "Accuracy with model: 3 0.964\n",
      "Accuracy with model: 4 0.9653333333333334\n",
      "The Best model is : (0.9686666666666667, MLPClassifier(activation='relu', alpha=0.0001, batch_size='auto', beta_1=0.9,\n",
      "              beta_2=0.999, early_stopping=False, epsilon=1e-08,\n",
      "              hidden_layer_sizes=(60, 80, 90), learning_rate='constant',\n",
      "              learning_rate_init=0.001, max_iter=500, momentum=0.9,\n",
      "              n_iter_no_change=10, nesterovs_momentum=True, power_t=0.5,\n",
      "              random_state=None, shuffle=True, solver='adam', tol=0.0001,\n",
      "              validation_fraction=0.1, verbose=False, warm_start=False))\n"
     ]
    },
    {
     "data": {
      "text/plain": [
       "MLPClassifier(activation='relu', alpha=0.0001, batch_size='auto', beta_1=0.9,\n",
       "              beta_2=0.999, early_stopping=False, epsilon=1e-08,\n",
       "              hidden_layer_sizes=(60, 80, 90), learning_rate='constant',\n",
       "              learning_rate_init=0.001, max_iter=500, momentum=0.9,\n",
       "              n_iter_no_change=10, nesterovs_momentum=True, power_t=0.5,\n",
       "              random_state=None, shuffle=True, solver='adam', tol=0.0001,\n",
       "              validation_fraction=0.1, verbose=False, warm_start=False)"
      ]
     },
     "execution_count": 72,
     "metadata": {},
     "output_type": "execute_result"
    }
   ],
   "source": [
    "mlp1 = MLPClassifier(hidden_layer_sizes=(60,80,90), activation='relu', solver='adam', max_iter=500)\n",
    "mlp1.fit(X_train,y_train)\n",
    "#2nd model\n",
    "mlp2 = MLPClassifier(hidden_layer_sizes=(10,10,10), activation='relu', solver='adam', max_iter=500)\n",
    "mlp2.fit(X_train,y_train)\n",
    "#3rd model\n",
    "mlp3 = MLPClassifier(hidden_layer_sizes=(10,20,30), activation='relu', solver='adam', max_iter=500)\n",
    "mlp3.fit(X_train,y_train)\n",
    "#4th model\n",
    "mlp4 = MLPClassifier(hidden_layer_sizes=(50,80,100), activation='relu', solver='adam', max_iter=500)\n",
    "mlp4.fit(X_train,y_train)\n",
    "\n",
    "def predandacc(model,model_n):\n",
    "    predict_test = model.predict(X_test)\n",
    "    #print(predict_test[:10])\n",
    "    #print(len(predict_test))\n",
    "    from sklearn.metrics import accuracy_score\n",
    "    acc = accuracy_score(y_test,predict_test)\n",
    "    print(\"Accuracy with model:\",model_n,acc)\n",
    "    return acc,model\n",
    "acc_list=[]\n",
    "acc_list.append(predandacc(mlp1,1))\n",
    "acc_list.append(predandacc(mlp2,2))\n",
    "acc_list.append(predandacc(mlp3,3))\n",
    "acc_list.append(predandacc(mlp4,4))\n",
    "def takeFirst(elem):\n",
    "    return elem[0]\n",
    "\n",
    "acc_list.sort(key=takeFirst)\n",
    "#random.sort(key=takeSecond)\n",
    "temp=acc_list[-1]\n",
    "#best_model=temp[0][1]\n",
    "print(\"The Best model is :\",temp)\n",
    "b_model=temp[1]\n",
    "#print(b_model)\n",
    "#train model with best classifier \n",
    "b_model.fit(X_train,y_train)"
   ]
  },
  {
   "cell_type": "code",
   "execution_count": 70,
   "metadata": {},
   "outputs": [
    {
     "name": "stdout",
     "output_type": "stream",
     "text": [
      "length 2200\n",
      "[[0 0 1]\n",
      " [0 0 1]\n",
      " [0 0 1]\n",
      " [0 0 1]\n",
      " [0 0 1]\n",
      " [0 0 1]\n",
      " [0 0 1]\n",
      " [0 0 1]\n",
      " [0 0 1]\n",
      " [0 1 0]]\n"
     ]
    }
   ],
   "source": [
    "testThyroidInput=mat[\"testThyroidInput\"]\n",
    "y_pred_test= b_model.predict(testThyroidInput)\n",
    "print(\"length\",len(y_pred_test))\n",
    "print(y_pred_test[10:20])"
   ]
  },
  {
   "cell_type": "code",
   "execution_count": 14,
   "metadata": {},
   "outputs": [
    {
     "data": {
      "text/plain": [
       "'from sklearn.model_selection import train_test_split\\n\\nX_train, X_test, y_train, y_test = train_test_split(trainThyroidInput, trainThyroidOutput, test_size=0.2, random_state=0)\\nprint(X_train.shape) \\nprint(X_test.shape)\\nprint(X_train[:2])'"
      ]
     },
     "execution_count": 14,
     "metadata": {},
     "output_type": "execute_result"
    }
   ],
   "source": [
    "#Now implimenting KNN\n",
    "\n",
    "'''from sklearn.model_selection import train_test_split\n",
    "\n",
    "X_train, X_test, y_train, y_test = train_test_split(trainThyroidInput, trainThyroidOutput, test_size=0.2, random_state=0)\n",
    "print(X_train.shape) \n",
    "print(X_test.shape)\n",
    "print(X_train[:2])'''\n"
   ]
  },
  {
   "cell_type": "code",
   "execution_count": 73,
   "metadata": {},
   "outputs": [
    {
     "name": "stdout",
     "output_type": "stream",
     "text": [
      "[[0 0 1]\n",
      " [0 0 1]\n",
      " [0 0 1]\n",
      " ...\n",
      " [0 0 1]\n",
      " [0 0 1]\n",
      " [0 0 1]]\n",
      "1500\n"
     ]
    }
   ],
   "source": [
    "from sklearn.neighbors import KNeighborsClassifier\n",
    "classifier = KNeighborsClassifier(n_neighbors=5)\n",
    "classifier.fit(X_train,y_train)\n",
    "#Prediction \n",
    "y_pred = classifier.predict(X_test)\n",
    "#y_pred_train=classifier.predict(X_train)\n",
    "print(y_pred)\n",
    "print(len(y_pred))\n"
   ]
  },
  {
   "cell_type": "code",
   "execution_count": 74,
   "metadata": {},
   "outputs": [
    {
     "name": "stdout",
     "output_type": "stream",
     "text": [
      "0.9226666666666666\n"
     ]
    }
   ],
   "source": [
    "from sklearn.metrics import accuracy_score\n",
    "acc = accuracy_score(y_test,y_pred)\n",
    "print(acc)"
   ]
  },
  {
   "cell_type": "code",
   "execution_count": 80,
   "metadata": {},
   "outputs": [
    {
     "name": "stdout",
     "output_type": "stream",
     "text": [
      "accuracy when K = 1\n",
      "0.91\n",
      "accuracy when K = 3\n",
      "0.92\n",
      "accuracy when K = 5\n",
      "0.9226666666666666\n",
      "accuracy when K = 7\n",
      "0.9193333333333333\n",
      "accuracy when K = 9\n",
      "0.916\n",
      "accuracy when K = 11\n",
      "0.9133333333333333\n",
      "accuracy when K = 13\n",
      "0.9113333333333333\n",
      "accuracy when K = 15\n",
      "0.9106666666666666\n",
      "accuracy when K = 17\n",
      "0.91\n",
      "accuracy when K = 19\n",
      "0.91\n",
      "maximum accuracy  0.9226666666666666\n",
      "optimal K value  5\n"
     ]
    }
   ],
   "source": [
    "def knnfun(n_neibor):\n",
    "    classifier = KNeighborsClassifier(n_neighbors=n_neibor)\n",
    "    classifier.fit(X_train,y_train)\n",
    "    #Prediction \n",
    "    y_pred = classifier.predict(X_test)\n",
    "    #y_pred_train=classifier.predict(X_train)\n",
    "    #print(y_pred)\n",
    "    #print(len(y_pred))\n",
    "    from sklearn.metrics import accuracy_score\n",
    "    acc = accuracy_score(y_test,y_pred)\n",
    "    print(acc)\n",
    "    return acc,n_neibor\n",
    "acc_list=[]\n",
    "n_list=[1,3,5,7,9,11,13,15,17,19]\n",
    "for n in n_list:\n",
    "    print(\"accuracy when K =\",n)\n",
    "    acc_list.append(knnfun(n)) # n=5\n",
    "    \n",
    "acc_list.sort()\n",
    "maxi_acc=acc_list[-1]\n",
    "print(\"maximum accuracy \",maxi_acc[0])\n",
    "print(\"optimal K value \",maxi_acc[1])\n",
    "\n"
   ]
  },
  {
   "cell_type": "code",
   "execution_count": 81,
   "metadata": {},
   "outputs": [
    {
     "name": "stdout",
     "output_type": "stream",
     "text": [
      "[0.94       0.94857143 0.92857143 0.94285714 0.93857143]\n",
      "0.9397142857142857\n"
     ]
    }
   ],
   "source": [
    "n=maxi_acc[1]\n",
    "from sklearn.model_selection import cross_val_score\n",
    "import numpy as np\n",
    "#n=maxi_acc[1]\n",
    "#create a new KNN model\n",
    "knn_cv = KNeighborsClassifier(n)\n",
    "#train model with cv of 5 \n",
    "cv_scores = cross_val_score(knn_cv, X_train, y_train, cv=5)\n",
    "#print each cv score (accuracy) and average them\n",
    "print(cv_scores)\n",
    "print(np.mean(cv_scores))"
   ]
  },
  {
   "cell_type": "code",
   "execution_count": 82,
   "metadata": {},
   "outputs": [
    {
     "name": "stdout",
     "output_type": "stream",
     "text": [
      "[[0 0 1]\n",
      " [0 0 1]\n",
      " [0 0 1]\n",
      " ...\n",
      " [0 0 1]\n",
      " [0 0 1]\n",
      " [0 0 1]]\n",
      "1500\n"
     ]
    }
   ],
   "source": [
    "#Train model according to best parameter\n",
    "classifier = KNeighborsClassifier(n)\n",
    "classifier.fit( X_train, y_train)\n",
    "#print(TestX.shape)\n",
    "\n",
    "y_pred = classifier.predict(X_test)\n",
    "#y_pred_train=classifier.predict(TrainX)\n",
    "print(y_pred)\n",
    "print(len(y_pred))"
   ]
  },
  {
   "cell_type": "code",
   "execution_count": 83,
   "metadata": {},
   "outputs": [
    {
     "name": "stdout",
     "output_type": "stream",
     "text": [
      "0.9226666666666666\n"
     ]
    }
   ],
   "source": [
    "from sklearn.metrics import accuracy_score\n",
    "acc = accuracy_score(y_test,y_pred)\n",
    "print(acc)"
   ]
  },
  {
   "cell_type": "code",
   "execution_count": 84,
   "metadata": {},
   "outputs": [
    {
     "data": {
      "text/plain": [
       "\"#Hyper Parameter Tunning i.e K best value with Gridsearch cv\\n\\nfrom sklearn.model_selection import GridSearchCV\\nk_range = list(range(1,30))\\nparam_grid = dict(n_neighbors = k_range)\\n\\n#print (param_grid)\\nknn = KNeighborsClassifier()\\ngrid = GridSearchCV(knn, param_grid, cv = 10, scoring = 'accuracy')\\ngrid.fit(X_train,y_train)\\n#print (grid.best_score_)\\nprint (grid.best_params_)\\nprint (grid.best_estimator_)\\nparam=grid.best_params_\\n#Best Parameters\\nbest_params=param.get('n_neighbors')\\nprint(best_params)\""
      ]
     },
     "execution_count": 84,
     "metadata": {},
     "output_type": "execute_result"
    }
   ],
   "source": [
    "'''#Hyper Parameter Tunning i.e K best value with Gridsearch cv\n",
    "\n",
    "from sklearn.model_selection import GridSearchCV\n",
    "k_range = list(range(1,30))\n",
    "param_grid = dict(n_neighbors = k_range)\n",
    "\n",
    "#print (param_grid)\n",
    "knn = KNeighborsClassifier()\n",
    "grid = GridSearchCV(knn, param_grid, cv = 10, scoring = 'accuracy')\n",
    "grid.fit(X_train,y_train)\n",
    "#print (grid.best_score_)\n",
    "print (grid.best_params_)\n",
    "print (grid.best_estimator_)\n",
    "param=grid.best_params_\n",
    "#Best Parameters\n",
    "best_params=param.get('n_neighbors')\n",
    "print(best_params)\n",
    "best_classifier = KNeighborsClassifier(n_neighbors=best_params)\n",
    "best_classifier.fit(X_train,y_train)\n",
    "#Prediction \n",
    "y_predd = grid.predict(X_test)\n",
    "y_pred_train=best_classifier.predict(X_train)\n",
    "print(y_predd)\n",
    "print(len(y_predd))\n",
    "from sklearn.metrics import accuracy_score\n",
    "acc = accuracy_score(y_test,y_predd)\n",
    "print(acc)\n",
    "'''"
   ]
  },
  {
   "cell_type": "code",
   "execution_count": 85,
   "metadata": {},
   "outputs": [
    {
     "name": "stdout",
     "output_type": "stream",
     "text": [
      "2200\n",
      "[[0 0 1]\n",
      " [0 0 1]\n",
      " [0 0 1]\n",
      " [0 0 1]\n",
      " [0 0 1]\n",
      " [0 0 1]\n",
      " [0 0 1]\n",
      " [0 0 1]\n",
      " [0 0 1]\n",
      " [0 0 1]]\n"
     ]
    }
   ],
   "source": [
    "# working with Test Data\n",
    "y_pred_test= classifier.predict(testThyroidInput)\n",
    "print(len(y_pred_test))\n",
    "print(y_pred_test[:10])"
   ]
  },
  {
   "cell_type": "code",
   "execution_count": 94,
   "metadata": {},
   "outputs": [
    {
     "name": "stdout",
     "output_type": "stream",
     "text": [
      "accuracy when max and min : 3 5\n",
      "accuracy with model 1 0.9906666666666667\n",
      "accuracy when max and min : 10 4\n",
      "accuracy with model 2 0.9906666666666667\n",
      "accuracy when max and min : 10 5\n",
      "accuracy with model 3 0.9906666666666667\n",
      "accuracy when max and min : 12 1\n",
      "accuracy with model 4 0.996\n",
      "accuracy when max and min : 12 6\n",
      "accuracy with model 5 0.9906666666666667\n",
      "\n",
      "best accuracy with model 4 0.996\n"
     ]
    },
    {
     "data": {
      "text/plain": [
       "DecisionTreeClassifier(class_weight=None, criterion='gini', max_depth=12,\n",
       "                       max_features=None, max_leaf_nodes=None,\n",
       "                       min_impurity_decrease=0.0, min_impurity_split=None,\n",
       "                       min_samples_leaf=1, min_samples_split=2,\n",
       "                       min_weight_fraction_leaf=0.0, presort=False,\n",
       "                       random_state=100, splitter='best')"
      ]
     },
     "execution_count": 94,
     "metadata": {},
     "output_type": "execute_result"
    }
   ],
   "source": [
    "# Now Implement Decsion tree\n",
    "from sklearn import tree\n",
    "#clf_d = tree.DecisionTreeClassifier()\n",
    "def decsionTree(max_depth,min_sample_leaf,model_n):\n",
    "    \n",
    "    clf_gini = tree.DecisionTreeClassifier(criterion = \"gini\", random_state = 100,max_depth=max_depth, min_samples_leaf=min_sample_leaf)\n",
    "    clf_gini.fit(X_train,y_train)\n",
    "    y_predd = clf_gini.predict(X_test)\n",
    "    #print(y_predd[:10])\n",
    "    acc = accuracy_score(y_test,y_predd)\n",
    "    print(\"accuracy when max and min :\",max_depth,min_sample_leaf)\n",
    "    print(\"accuracy with model\",model_n,acc)\n",
    "    return acc,max_depth,min_sample_leaf,model_n\n",
    "model1=decsionTree(3,5,1)\n",
    "model2=decsionTree(10,4,2)\n",
    "model3=decsionTree(10,5,3)\n",
    "model4=decsionTree(12,1,4)\n",
    "model5=decsionTree(12,6,5)\n",
    "acc_lst_DT=[]\n",
    "acc_list_DT.append(model1)\n",
    "acc_list_DT.append(model2)\n",
    "acc_list_DT.append(model3)\n",
    "acc_list_DT.append(model4)\n",
    "acc_list_DT.append(model5)\n",
    "acc_list_DT.sort()\n",
    "temp=acc_list_DT[-1]\n",
    "print(\"\\nbest accuracy with model\",temp[3],temp[0])\n",
    "maxdep=temp[1]\n",
    "leaf_sample=temp[2]\n",
    "b_model_DT=tree.DecisionTreeClassifier(criterion = \"gini\", random_state = 100,max_depth=maxdep, min_samples_leaf=leaf_sample)\n",
    "b_model_DT.fit(X_train,y_train)"
   ]
  },
  {
   "cell_type": "code",
   "execution_count": 95,
   "metadata": {},
   "outputs": [
    {
     "name": "stdout",
     "output_type": "stream",
     "text": [
      "2200\n",
      "[[0 0 1]\n",
      " [0 0 1]\n",
      " [0 0 1]\n",
      " ...\n",
      " [0 1 0]\n",
      " [0 0 1]\n",
      " [1 0 0]]\n"
     ]
    }
   ],
   "source": [
    "y_pred_test= b_model_DT.predict(testThyroidInput)\n",
    "print(len(y_pred_test))\n",
    "print(y_pred_test)"
   ]
  },
  {
   "cell_type": "code",
   "execution_count": null,
   "metadata": {},
   "outputs": [],
   "source": []
  }
 ],
 "metadata": {
  "kernelspec": {
   "display_name": "Python 3",
   "language": "python",
   "name": "python3"
  },
  "language_info": {
   "codemirror_mode": {
    "name": "ipython",
    "version": 3
   },
   "file_extension": ".py",
   "mimetype": "text/x-python",
   "name": "python",
   "nbconvert_exporter": "python",
   "pygments_lexer": "ipython3",
   "version": "3.7.3"
  }
 },
 "nbformat": 4,
 "nbformat_minor": 2
}
